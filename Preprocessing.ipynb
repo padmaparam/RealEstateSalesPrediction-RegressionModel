{
 "cells": [
  {
   "cell_type": "code",
   "execution_count": 30,
   "metadata": {},
   "outputs": [],
   "source": [
    "import pandas as pd\n",
    "import numpy as np\n",
    "import matplotlib.pyplot as plt\n",
    "import seaborn as sns\n",
    "from sklearn.model_selection import train_test_split\n",
    "from sklearn.metrics import mean_squared_error, r2_score\n",
    "from sklearn.preprocessing import StandardScaler"
   ]
  },
  {
   "cell_type": "code",
   "execution_count": 31,
   "metadata": {},
   "outputs": [],
   "source": [
    "df= pd.read_csv('data/EDANYRealEstate.csv')"
   ]
  },
  {
   "cell_type": "code",
   "execution_count": 32,
   "metadata": {},
   "outputs": [
    {
     "name": "stdout",
     "output_type": "stream",
     "text": [
      "<class 'pandas.core.frame.DataFrame'>\n",
      "RangeIndex: 35106 entries, 0 to 35105\n",
      "Data columns (total 16 columns):\n",
      " #   Column                   Non-Null Count  Dtype  \n",
      "---  ------                   --------------  -----  \n",
      " 0   BOROUGH                  35106 non-null  object \n",
      " 1   NEIGHBORHOOD             35106 non-null  object \n",
      " 2   BUILDING CLASS CATEGORY  35106 non-null  object \n",
      " 3   BLOCK                    35106 non-null  int64  \n",
      " 4   LOT                      35106 non-null  int64  \n",
      " 5   ADDRESS                  35106 non-null  object \n",
      " 6   ZIP CODE                 35105 non-null  float64\n",
      " 7   RESIDENTIAL UNITS        34292 non-null  float64\n",
      " 8   COMMERCIAL UNITS         18928 non-null  float64\n",
      " 9   TOTAL UNITS              35106 non-null  float64\n",
      " 10  LAND SQUARE FEET         18114 non-null  float64\n",
      " 11  GROSS SQUARE FEET        18114 non-null  float64\n",
      " 12  YEAR BUILT               33071 non-null  float64\n",
      " 13  TAX CLASS                35106 non-null  int64  \n",
      " 14  BUILDING CLASS           35106 non-null  object \n",
      " 15  SALE PRICE               35106 non-null  int64  \n",
      "dtypes: float64(7), int64(4), object(5)\n",
      "memory usage: 4.3+ MB\n"
     ]
    }
   ],
   "source": [
    "df.info()"
   ]
  },
  {
   "cell_type": "markdown",
   "metadata": {},
   "source": [
    "Since block and lot are specific to a plot, we will remove them as every borough has a separate block and lot."
   ]
  },
  {
   "cell_type": "code",
   "execution_count": 33,
   "metadata": {},
   "outputs": [],
   "source": [
    "df = df.drop(['BLOCK', 'LOT','ADDRESS'], axis = 1)"
   ]
  },
  {
   "cell_type": "code",
   "execution_count": 34,
   "metadata": {},
   "outputs": [],
   "source": [
    "# we will remove data when yearbuilt is not available. \n",
    "df = df[df['YEAR BUILT'].isnull() == False]"
   ]
  },
  {
   "cell_type": "code",
   "execution_count": 35,
   "metadata": {},
   "outputs": [],
   "source": [
    "df['TAX CLASS'] = df['TAX CLASS'].astype('category')"
   ]
  },
  {
   "cell_type": "code",
   "execution_count": 36,
   "metadata": {},
   "outputs": [
    {
     "name": "stdout",
     "output_type": "stream",
     "text": [
      "<class 'pandas.core.frame.DataFrame'>\n",
      "Int64Index: 33071 entries, 0 to 35103\n",
      "Data columns (total 13 columns):\n",
      " #   Column                   Non-Null Count  Dtype   \n",
      "---  ------                   --------------  -----   \n",
      " 0   BOROUGH                  33071 non-null  object  \n",
      " 1   NEIGHBORHOOD             33071 non-null  object  \n",
      " 2   BUILDING CLASS CATEGORY  33071 non-null  object  \n",
      " 3   ZIP CODE                 33071 non-null  float64 \n",
      " 4   RESIDENTIAL UNITS        32433 non-null  float64 \n",
      " 5   COMMERCIAL UNITS         18287 non-null  float64 \n",
      " 6   TOTAL UNITS              33071 non-null  float64 \n",
      " 7   LAND SQUARE FEET         17649 non-null  float64 \n",
      " 8   GROSS SQUARE FEET        17649 non-null  float64 \n",
      " 9   YEAR BUILT               33071 non-null  float64 \n",
      " 10  TAX CLASS                33071 non-null  category\n",
      " 11  BUILDING CLASS           33071 non-null  object  \n",
      " 12  SALE PRICE               33071 non-null  int64   \n",
      "dtypes: category(1), float64(7), int64(1), object(4)\n",
      "memory usage: 3.3+ MB\n"
     ]
    }
   ],
   "source": [
    "df.info()"
   ]
  },
  {
   "cell_type": "code",
   "execution_count": 37,
   "metadata": {},
   "outputs": [],
   "source": [
    "# since Residential Unit and Total Units are correlated, we will remove RESIDENTIAL UNITS\n",
    "# We will also remove COMMERCIAL UNITS as they are captured in Land Square Feet\n",
    "\n",
    "df = df.drop(columns = ['RESIDENTIAL UNITS','COMMERCIAL UNITS' ])"
   ]
  },
  {
   "cell_type": "code",
   "execution_count": 38,
   "metadata": {
    "scrolled": true
   },
   "outputs": [
    {
     "name": "stdout",
     "output_type": "stream",
     "text": [
      "BOROUGH  :  5 object\n",
      "NEIGHBORHOOD  :  250 object\n",
      "BUILDING CLASS CATEGORY  :  33 object\n",
      "ZIP CODE  :  182 float64\n",
      "TOTAL UNITS  :  45 float64\n",
      "LAND SQUARE FEET  :  3181 float64\n",
      "GROSS SQUARE FEET  :  2797 float64\n",
      "YEAR BUILT  :  145 float64\n",
      "TAX CLASS  :  3 category\n",
      "BUILDING CLASS  :  112 object\n",
      "SALE PRICE  :  4818 int64\n"
     ]
    }
   ],
   "source": [
    "for column in df.columns:\n",
    "    print(column, ' : ' , df[column].nunique(), df[column].dtype)"
   ]
  },
  {
   "cell_type": "code",
   "execution_count": 39,
   "metadata": {},
   "outputs": [],
   "source": [
    "df['ZIP CODE'] = df['ZIP CODE'].astype('category')"
   ]
  },
  {
   "cell_type": "code",
   "execution_count": 40,
   "metadata": {},
   "outputs": [
    {
     "data": {
      "text/plain": [
       "Index(['BOROUGH', 'NEIGHBORHOOD', 'BUILDING CLASS CATEGORY', 'ZIP CODE',\n",
       "       'TOTAL UNITS', 'LAND SQUARE FEET', 'GROSS SQUARE FEET', 'YEAR BUILT',\n",
       "       'TAX CLASS', 'BUILDING CLASS', 'SALE PRICE'],\n",
       "      dtype='object')"
      ]
     },
     "execution_count": 40,
     "metadata": {},
     "output_type": "execute_result"
    }
   ],
   "source": [
    "df.columns"
   ]
  },
  {
   "cell_type": "code",
   "execution_count": 41,
   "metadata": {},
   "outputs": [],
   "source": [
    "df = pd.get_dummies(df, columns=['BOROUGH', 'NEIGHBORHOOD', 'BUILDING CLASS CATEGORY','BUILDING CLASS','ZIP CODE', 'TAX CLASS'])"
   ]
  },
  {
   "cell_type": "code",
   "execution_count": 42,
   "metadata": {},
   "outputs": [
    {
     "name": "stdout",
     "output_type": "stream",
     "text": [
      "<class 'pandas.core.frame.DataFrame'>\n",
      "Int64Index: 33071 entries, 0 to 35103\n",
      "Columns: 590 entries, TOTAL UNITS to TAX CLASS_4\n",
      "dtypes: float64(4), int64(1), uint8(585)\n",
      "memory usage: 20.0 MB\n"
     ]
    }
   ],
   "source": [
    "df.info()"
   ]
  },
  {
   "cell_type": "code",
   "execution_count": 43,
   "metadata": {},
   "outputs": [],
   "source": [
    "y = df['SALE PRICE'].values\n",
    "X = df.iloc[:,df.columns!='SALE PRICE']\n",
    "X_train, X_test, y_train, y_test = train_test_split(X, y, test_size=0.25, random_state=123)"
   ]
  },
  {
   "cell_type": "code",
   "execution_count": 44,
   "metadata": {},
   "outputs": [],
   "source": [
    "from sklearn.impute import KNNImputer\n",
    "knn = KNNImputer(n_neighbors=5)\n",
    "knn.fit(X_train)\n",
    "X_train_impute = knn.transform(X_train)"
   ]
  },
  {
   "cell_type": "code",
   "execution_count": 45,
   "metadata": {},
   "outputs": [],
   "source": [
    "X_test_impute = knn.transform(X_test)"
   ]
  },
  {
   "cell_type": "code",
   "execution_count": 50,
   "metadata": {},
   "outputs": [],
   "source": [
    "pd.DataFrame(X_train_impute).to_csv('data/X_train.csv', index=False)\n",
    "pd.DataFrame(X_test_impute).to_csv('data/X_test.csv', index=False)\n",
    "pd.DataFrame(y_train).to_csv('data/y_train.csv', index=False)\n",
    "pd.DataFrame(y_test).to_csv('data/y_test.csv', index=False)"
   ]
  },
  {
   "cell_type": "code",
   "execution_count": 51,
   "metadata": {},
   "outputs": [],
   "source": [
    "scaler = StandardScaler()\n",
    "scaler.fit(X_train_impute)\n",
    "X_train_scaled = scaler.transform(X_train_impute)\n",
    "X_test_scaled = scaler.transform(X_test_impute)"
   ]
  },
  {
   "cell_type": "code",
   "execution_count": 52,
   "metadata": {},
   "outputs": [],
   "source": [
    "pd.DataFrame(X_train_scaled).to_csv('data/X_train_scaled.csv', index=False)\n",
    "pd.DataFrame(X_test_scaled).to_csv('data/X_test_scaled.csv', index=False)\n"
   ]
  }
 ],
 "metadata": {
  "kernelspec": {
   "display_name": "Python 3",
   "language": "python",
   "name": "python3"
  },
  "language_info": {
   "codemirror_mode": {
    "name": "ipython",
    "version": 3
   },
   "file_extension": ".py",
   "mimetype": "text/x-python",
   "name": "python",
   "nbconvert_exporter": "python",
   "pygments_lexer": "ipython3",
   "version": "3.8.3"
  }
 },
 "nbformat": 4,
 "nbformat_minor": 4
}
