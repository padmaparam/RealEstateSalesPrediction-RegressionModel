{
 "cells": [
  {
   "cell_type": "code",
   "execution_count": 3,
   "metadata": {},
   "outputs": [],
   "source": [
    "import pandas as pd\n",
    "import numpy as np\n",
    "import matplotlib.pyplot as plt\n",
    "import seaborn as sns"
   ]
  },
  {
   "cell_type": "code",
   "execution_count": 4,
   "metadata": {},
   "outputs": [],
   "source": [
    "df_bronx = pd.read_excel('data/rollingsales_bronx.xls', skiprows=4)\n",
    "df_brooklyn = pd.read_excel('data/rollingsales_brooklyn.xls', skiprows=4)\n",
    "df_manhattan = pd.read_excel('data/rollingsales_manhattan.xls', skiprows=4)\n",
    "df_queens = pd.read_excel('data/rollingsales_queens.xls', skiprows=4)\n",
    "df_statenisland = pd.read_excel('data/rollingsales_statenisland.xls', skiprows=4)"
   ]
  },
  {
   "cell_type": "code",
   "execution_count": 5,
   "metadata": {},
   "outputs": [],
   "source": [
    "pd.options.display.max_columns=None\n",
    "df = pd.concat([df_bronx, df_brooklyn, df_manhattan, df_queens, df_statenisland])"
   ]
  },
  {
   "cell_type": "code",
   "execution_count": 7,
   "metadata": {},
   "outputs": [
    {
     "data": {
      "text/plain": [
       "Index(['BOROUGH', 'NEIGHBORHOOD', 'BUILDING CLASS CATEGORY',\n",
       "       'TAX CLASS AT PRESENT', 'BLOCK', 'LOT', 'EASE-MENT',\n",
       "       'BUILDING CLASS AT PRESENT', 'ADDRESS', 'APARTMENT NUMBER', 'ZIP CODE',\n",
       "       'RESIDENTIAL UNITS', 'COMMERCIAL UNITS', 'TOTAL UNITS',\n",
       "       'LAND SQUARE FEET', 'GROSS SQUARE FEET', 'YEAR BUILT',\n",
       "       'TAX CLASS AT TIME OF SALE', 'BUILDING CLASS AT TIME OF SALE',\n",
       "       'SALE PRICE', 'SALE DATE'],\n",
       "      dtype='object')"
      ]
     },
     "execution_count": 7,
     "metadata": {},
     "output_type": "execute_result"
    }
   ],
   "source": [
    "df.columns"
   ]
  },
  {
   "cell_type": "code",
   "execution_count": 102,
   "metadata": {},
   "outputs": [
    {
     "name": "stdout",
     "output_type": "stream",
     "text": [
      "<class 'pandas.core.frame.DataFrame'>\n",
      "Int64Index: 62957 entries, 0 to 6103\n",
      "Data columns (total 21 columns):\n",
      " #   Column                          Non-Null Count  Dtype         \n",
      "---  ------                          --------------  -----         \n",
      " 0   BOROUGH                         62957 non-null  int64         \n",
      " 1   NEIGHBORHOOD                    62957 non-null  object        \n",
      " 2   BUILDING CLASS CATEGORY         62957 non-null  object        \n",
      " 3   TAX CLASS AT PRESENT            62928 non-null  object        \n",
      " 4   BLOCK                           62957 non-null  int64         \n",
      " 5   LOT                             62957 non-null  int64         \n",
      " 6   EASE-MENT                       0 non-null      float64       \n",
      " 7   BUILDING CLASS AT PRESENT       62928 non-null  object        \n",
      " 8   ADDRESS                         62957 non-null  object        \n",
      " 9   APARTMENT NUMBER                14016 non-null  object        \n",
      " 10  ZIP CODE                        62956 non-null  float64       \n",
      " 11  RESIDENTIAL UNITS               49258 non-null  float64       \n",
      " 12  COMMERCIAL UNITS                38792 non-null  float64       \n",
      " 13  TOTAL UNITS                     50887 non-null  float64       \n",
      " 14  LAND SQUARE FEET                37163 non-null  float64       \n",
      " 15  GROSS SQUARE FEET               37163 non-null  float64       \n",
      " 16  YEAR BUILT                      58698 non-null  float64       \n",
      " 17  TAX CLASS AT TIME OF SALE       62957 non-null  int64         \n",
      " 18  BUILDING CLASS AT TIME OF SALE  62957 non-null  object        \n",
      " 19  SALE PRICE                      62957 non-null  int64         \n",
      " 20  SALE DATE                       62957 non-null  datetime64[ns]\n",
      "dtypes: datetime64[ns](1), float64(8), int64(5), object(7)\n",
      "memory usage: 10.6+ MB\n"
     ]
    }
   ],
   "source": [
    "df.info()"
   ]
  },
  {
   "cell_type": "markdown",
   "metadata": {},
   "source": [
    "We will remove EASE-MENT as it does not have any values. Also APARTMENT NUMBER does not help here\n",
    "Building class and Tax class at the time of sale is more important for our analysis than what it is now."
   ]
  },
  {
   "cell_type": "code",
   "execution_count": 103,
   "metadata": {},
   "outputs": [],
   "source": [
    "df = df.drop(['EASE-MENT', 'APARTMENT NUMBER', 'BUILDING CLASS AT PRESENT', 'TAX CLASS AT PRESENT', 'SALE DATE'], axis=1)"
   ]
  },
  {
   "cell_type": "code",
   "execution_count": 104,
   "metadata": {},
   "outputs": [
    {
     "name": "stdout",
     "output_type": "stream",
     "text": [
      "497\n"
     ]
    }
   ],
   "source": [
    "duplicates = sum(df.duplicated(df.columns))\n",
    "print(duplicates)\n",
    "df = df.drop_duplicates(df.columns, keep='last')"
   ]
  },
  {
   "cell_type": "code",
   "execution_count": 106,
   "metadata": {},
   "outputs": [
    {
     "name": "stdout",
     "output_type": "stream",
     "text": [
      "<class 'pandas.core.frame.DataFrame'>\n",
      "Int64Index: 62460 entries, 0 to 6103\n",
      "Data columns (total 16 columns):\n",
      " #   Column                          Non-Null Count  Dtype  \n",
      "---  ------                          --------------  -----  \n",
      " 0   BOROUGH                         62460 non-null  int64  \n",
      " 1   NEIGHBORHOOD                    62460 non-null  object \n",
      " 2   BUILDING CLASS CATEGORY         62460 non-null  object \n",
      " 3   BLOCK                           62460 non-null  int64  \n",
      " 4   LOT                             62460 non-null  int64  \n",
      " 5   ADDRESS                         62460 non-null  object \n",
      " 6   ZIP CODE                        62459 non-null  float64\n",
      " 7   RESIDENTIAL UNITS               48786 non-null  float64\n",
      " 8   COMMERCIAL UNITS                38397 non-null  float64\n",
      " 9   TOTAL UNITS                     50415 non-null  float64\n",
      " 10  LAND SQUARE FEET                36768 non-null  float64\n",
      " 11  GROSS SQUARE FEET               36768 non-null  float64\n",
      " 12  YEAR BUILT                      58240 non-null  float64\n",
      " 13  TAX CLASS AT TIME OF SALE       62460 non-null  int64  \n",
      " 14  BUILDING CLASS AT TIME OF SALE  62460 non-null  object \n",
      " 15  SALE PRICE                      62460 non-null  int64  \n",
      "dtypes: float64(7), int64(5), object(4)\n",
      "memory usage: 8.1+ MB\n"
     ]
    }
   ],
   "source": [
    "df.info()"
   ]
  },
  {
   "cell_type": "code",
   "execution_count": 107,
   "metadata": {},
   "outputs": [
    {
     "data": {
      "image/png": "[encoded data removed]",
      "text/plain": [
       "<Figure size 1080x720 with 12 Axes>"
      ]
     },
     "metadata": {
      "needs_background": "light"
     },
     "output_type": "display_data"
    }
   ],
   "source": [
    "df.hist(figsize=(15,10))\n",
    "plt.subplots_adjust(hspace=0.5)"
   ]
  },
  {
   "cell_type": "markdown",
   "metadata": {},
   "source": [
    "There are many skewed data here. We will analyze further."
   ]
  },
  {
   "cell_type": "code",
   "execution_count": 109,
   "metadata": {},
   "outputs": [
    {
     "data": {
      "text/html": [
       "<div>\n",
       "<style scoped>\n",
       "    .dataframe tbody tr th:only-of-type {\n",
       "        vertical-align: middle;\n",
       "    }\n",
       "\n",
       "    .dataframe tbody tr th {\n",
       "        vertical-align: top;\n",
       "    }\n",
       "\n",
       "    .dataframe thead th {\n",
       "        text-align: right;\n",
       "    }\n",
       "</style>\n",
       "<table border=\"1\" class=\"dataframe\">\n",
       "  <thead>\n",
       "    <tr style=\"text-align: right;\">\n",
       "      <th></th>\n",
       "      <th>BOROUGH</th>\n",
       "      <th>BLOCK</th>\n",
       "      <th>LOT</th>\n",
       "      <th>ZIP CODE</th>\n",
       "      <th>RESIDENTIAL UNITS</th>\n",
       "      <th>COMMERCIAL UNITS</th>\n",
       "      <th>TOTAL UNITS</th>\n",
       "      <th>LAND SQUARE FEET</th>\n",
       "      <th>GROSS SQUARE FEET</th>\n",
       "      <th>YEAR BUILT</th>\n",
       "      <th>TAX CLASS AT TIME OF SALE</th>\n",
       "      <th>SALE PRICE</th>\n",
       "    </tr>\n",
       "  </thead>\n",
       "  <tbody>\n",
       "    <tr>\n",
       "      <th>count</th>\n",
       "      <td>62460.00</td>\n",
       "      <td>62460.00</td>\n",
       "      <td>62460.00</td>\n",
       "      <td>62459.00</td>\n",
       "      <td>48786.00</td>\n",
       "      <td>38397.00</td>\n",
       "      <td>50415.00</td>\n",
       "      <td>36768.00</td>\n",
       "      <td>36768.00</td>\n",
       "      <td>58240.00</td>\n",
       "      <td>62460.00</td>\n",
       "      <td>62460.00</td>\n",
       "    </tr>\n",
       "    <tr>\n",
       "      <th>mean</th>\n",
       "      <td>3.04</td>\n",
       "      <td>4493.75</td>\n",
       "      <td>362.04</td>\n",
       "      <td>10881.81</td>\n",
       "      <td>3.06</td>\n",
       "      <td>0.51</td>\n",
       "      <td>3.35</td>\n",
       "      <td>10977.47</td>\n",
       "      <td>7016.54</td>\n",
       "      <td>1951.00</td>\n",
       "      <td>1.61</td>\n",
       "      <td>1368431.15</td>\n",
       "    </tr>\n",
       "    <tr>\n",
       "      <th>std</th>\n",
       "      <td>1.25</td>\n",
       "      <td>3669.54</td>\n",
       "      <td>658.57</td>\n",
       "      <td>551.59</td>\n",
       "      <td>44.08</td>\n",
       "      <td>8.30</td>\n",
       "      <td>44.15</td>\n",
       "      <td>200814.32</td>\n",
       "      <td>74888.31</td>\n",
       "      <td>35.15</td>\n",
       "      <td>0.80</td>\n",
       "      <td>9590787.73</td>\n",
       "    </tr>\n",
       "    <tr>\n",
       "      <th>min</th>\n",
       "      <td>1.00</td>\n",
       "      <td>1.00</td>\n",
       "      <td>1.00</td>\n",
       "      <td>10001.00</td>\n",
       "      <td>0.00</td>\n",
       "      <td>0.00</td>\n",
       "      <td>0.00</td>\n",
       "      <td>0.00</td>\n",
       "      <td>0.00</td>\n",
       "      <td>1018.00</td>\n",
       "      <td>1.00</td>\n",
       "      <td>0.00</td>\n",
       "    </tr>\n",
       "    <tr>\n",
       "      <th>25%</th>\n",
       "      <td>2.00</td>\n",
       "      <td>1384.00</td>\n",
       "      <td>22.00</td>\n",
       "      <td>10309.00</td>\n",
       "      <td>1.00</td>\n",
       "      <td>0.00</td>\n",
       "      <td>1.00</td>\n",
       "      <td>2000.00</td>\n",
       "      <td>1357.00</td>\n",
       "      <td>1925.00</td>\n",
       "      <td>1.00</td>\n",
       "      <td>0.00</td>\n",
       "    </tr>\n",
       "    <tr>\n",
       "      <th>50%</th>\n",
       "      <td>3.00</td>\n",
       "      <td>3726.50</td>\n",
       "      <td>50.00</td>\n",
       "      <td>11211.00</td>\n",
       "      <td>1.00</td>\n",
       "      <td>0.00</td>\n",
       "      <td>1.00</td>\n",
       "      <td>2500.00</td>\n",
       "      <td>1920.00</td>\n",
       "      <td>1945.00</td>\n",
       "      <td>1.00</td>\n",
       "      <td>460000.00</td>\n",
       "    </tr>\n",
       "    <tr>\n",
       "      <th>75%</th>\n",
       "      <td>4.00</td>\n",
       "      <td>6630.00</td>\n",
       "      <td>350.00</td>\n",
       "      <td>11358.00</td>\n",
       "      <td>2.00</td>\n",
       "      <td>0.00</td>\n",
       "      <td>2.00</td>\n",
       "      <td>4000.00</td>\n",
       "      <td>2742.00</td>\n",
       "      <td>1970.00</td>\n",
       "      <td>2.00</td>\n",
       "      <td>870000.00</td>\n",
       "    </tr>\n",
       "    <tr>\n",
       "      <th>max</th>\n",
       "      <td>5.00</td>\n",
       "      <td>16350.00</td>\n",
       "      <td>9116.00</td>\n",
       "      <td>11697.00</td>\n",
       "      <td>8764.00</td>\n",
       "      <td>259.00</td>\n",
       "      <td>8812.00</td>\n",
       "      <td>7649136.00</td>\n",
       "      <td>8942176.00</td>\n",
       "      <td>2021.00</td>\n",
       "      <td>4.00</td>\n",
       "      <td>978090439.00</td>\n",
       "    </tr>\n",
       "  </tbody>\n",
       "</table>\n",
       "</div>"
      ],
      "text/plain": [
       "       BOROUGH    BLOCK      LOT  ZIP CODE  RESIDENTIAL UNITS  \\\n",
       "count 62460.00 62460.00 62460.00  62459.00           48786.00   \n",
       "mean      3.04  4493.75   362.04  10881.81               3.06   \n",
       "std       1.25  3669.54   658.57    551.59              44.08   \n",
       "min       1.00     1.00     1.00  10001.00               0.00   \n",
       "25%       2.00  1384.00    22.00  10309.00               1.00   \n",
       "50%       3.00  3726.50    50.00  11211.00               1.00   \n",
       "75%       4.00  6630.00   350.00  11358.00               2.00   \n",
       "max       5.00 16350.00  9116.00  11697.00            8764.00   \n",
       "\n",
       "       COMMERCIAL UNITS  TOTAL UNITS  LAND SQUARE FEET  GROSS SQUARE FEET  \\\n",
       "count          38397.00     50415.00          36768.00           36768.00   \n",
       "mean               0.51         3.35          10977.47            7016.54   \n",
       "std                8.30        44.15         200814.32           74888.31   \n",
       "min                0.00         0.00              0.00               0.00   \n",
       "25%                0.00         1.00           2000.00            1357.00   \n",
       "50%                0.00         1.00           2500.00            1920.00   \n",
       "75%                0.00         2.00           4000.00            2742.00   \n",
       "max              259.00      8812.00        7649136.00         8942176.00   \n",
       "\n",
       "       YEAR BUILT  TAX CLASS AT TIME OF SALE   SALE PRICE  \n",
       "count    58240.00                   62460.00     62460.00  \n",
       "mean      1951.00                       1.61   1368431.15  \n",
       "std         35.15                       0.80   9590787.73  \n",
       "min       1018.00                       1.00         0.00  \n",
       "25%       1925.00                       1.00         0.00  \n",
       "50%       1945.00                       1.00    460000.00  \n",
       "75%       1970.00                       2.00    870000.00  \n",
       "max       2021.00                       4.00 978090439.00  "
      ]
     },
     "execution_count": 109,
     "metadata": {},
     "output_type": "execute_result"
    }
   ],
   "source": [
    "pd.set_option('display.float_format', lambda x: '%.2f' % x)\n",
    "df.describe()"
   ]
  },
  {
   "cell_type": "markdown",
   "metadata": {},
   "source": [
    "Sale price ranges from 0 to 978 million. We need to analyze further."
   ]
  },
  {
   "cell_type": "code",
   "execution_count": 127,
   "metadata": {},
   "outputs": [
    {
     "data": {
      "text/plain": [
       "<matplotlib.axes._subplots.AxesSubplot at 0x25301c479d0>"
      ]
     },
     "execution_count": 127,
     "metadata": {},
     "output_type": "execute_result"
    },
    {
     "data": {
      "image/png": "[encoded data removed]",
      "text/plain": [
       "<Figure size 720x432 with 1 Axes>"
      ]
     },
     "metadata": {
      "needs_background": "light"
     },
     "output_type": "display_data"
    }
   ],
   "source": [
    "plt.figure(figsize=(10,6))\n",
    "sns.boxplot(df['SALE PRICE'])"
   ]
  },
  {
   "cell_type": "markdown",
   "metadata": {},
   "source": [
    "Most of the outliers are roughly the ones above 2 million. But we will include till 3 million and start from $100,000"
   ]
  },
  {
   "cell_type": "code",
   "execution_count": 113,
   "metadata": {},
   "outputs": [],
   "source": [
    "df = df[(df['SALE PRICE'] > 100000) & (df['SALE PRICE'] < 3000000)]"
   ]
  },
  {
   "cell_type": "code",
   "execution_count": 114,
   "metadata": {},
   "outputs": [
    {
     "data": {
      "text/plain": [
       "(36903, 16)"
      ]
     },
     "execution_count": 114,
     "metadata": {},
     "output_type": "execute_result"
    }
   ],
   "source": [
    "df.shape"
   ]
  },
  {
   "cell_type": "code",
   "execution_count": 115,
   "metadata": {},
   "outputs": [
    {
     "data": {
      "text/html": [
       "<div>\n",
       "<style scoped>\n",
       "    .dataframe tbody tr th:only-of-type {\n",
       "        vertical-align: middle;\n",
       "    }\n",
       "\n",
       "    .dataframe tbody tr th {\n",
       "        vertical-align: top;\n",
       "    }\n",
       "\n",
       "    .dataframe thead th {\n",
       "        text-align: right;\n",
       "    }\n",
       "</style>\n",
       "<table border=\"1\" class=\"dataframe\">\n",
       "  <thead>\n",
       "    <tr style=\"text-align: right;\">\n",
       "      <th></th>\n",
       "      <th>BOROUGH</th>\n",
       "      <th>BLOCK</th>\n",
       "      <th>LOT</th>\n",
       "      <th>ZIP CODE</th>\n",
       "      <th>RESIDENTIAL UNITS</th>\n",
       "      <th>COMMERCIAL UNITS</th>\n",
       "      <th>TOTAL UNITS</th>\n",
       "      <th>LAND SQUARE FEET</th>\n",
       "      <th>GROSS SQUARE FEET</th>\n",
       "      <th>YEAR BUILT</th>\n",
       "      <th>TAX CLASS AT TIME OF SALE</th>\n",
       "      <th>SALE PRICE</th>\n",
       "    </tr>\n",
       "  </thead>\n",
       "  <tbody>\n",
       "    <tr>\n",
       "      <th>count</th>\n",
       "      <td>36903.00</td>\n",
       "      <td>36903.00</td>\n",
       "      <td>36903.00</td>\n",
       "      <td>36902.00</td>\n",
       "      <td>26531.00</td>\n",
       "      <td>19651.00</td>\n",
       "      <td>27408.00</td>\n",
       "      <td>18774.00</td>\n",
       "      <td>18774.00</td>\n",
       "      <td>34691.00</td>\n",
       "      <td>36903.00</td>\n",
       "      <td>36903.00</td>\n",
       "    </tr>\n",
       "    <tr>\n",
       "      <th>mean</th>\n",
       "      <td>3.08</td>\n",
       "      <td>4483.05</td>\n",
       "      <td>381.13</td>\n",
       "      <td>10874.60</td>\n",
       "      <td>3.03</td>\n",
       "      <td>0.60</td>\n",
       "      <td>3.36</td>\n",
       "      <td>13775.63</td>\n",
       "      <td>6761.82</td>\n",
       "      <td>1953.36</td>\n",
       "      <td>1.60</td>\n",
       "      <td>823334.29</td>\n",
       "    </tr>\n",
       "    <tr>\n",
       "      <th>std</th>\n",
       "      <td>1.28</td>\n",
       "      <td>3687.78</td>\n",
       "      <td>649.45</td>\n",
       "      <td>554.89</td>\n",
       "      <td>58.49</td>\n",
       "      <td>10.86</td>\n",
       "      <td>58.53</td>\n",
       "      <td>241081.03</td>\n",
       "      <td>89178.16</td>\n",
       "      <td>34.53</td>\n",
       "      <td>0.71</td>\n",
       "      <td>537562.92</td>\n",
       "    </tr>\n",
       "    <tr>\n",
       "      <th>min</th>\n",
       "      <td>1.00</td>\n",
       "      <td>1.00</td>\n",
       "      <td>1.00</td>\n",
       "      <td>10001.00</td>\n",
       "      <td>0.00</td>\n",
       "      <td>0.00</td>\n",
       "      <td>0.00</td>\n",
       "      <td>45.00</td>\n",
       "      <td>0.00</td>\n",
       "      <td>1800.00</td>\n",
       "      <td>1.00</td>\n",
       "      <td>101000.00</td>\n",
       "    </tr>\n",
       "    <tr>\n",
       "      <th>25%</th>\n",
       "      <td>2.00</td>\n",
       "      <td>1381.00</td>\n",
       "      <td>22.00</td>\n",
       "      <td>10309.00</td>\n",
       "      <td>1.00</td>\n",
       "      <td>0.00</td>\n",
       "      <td>1.00</td>\n",
       "      <td>2000.00</td>\n",
       "      <td>1300.00</td>\n",
       "      <td>1925.00</td>\n",
       "      <td>1.00</td>\n",
       "      <td>465000.00</td>\n",
       "    </tr>\n",
       "    <tr>\n",
       "      <th>50%</th>\n",
       "      <td>3.00</td>\n",
       "      <td>3680.00</td>\n",
       "      <td>51.00</td>\n",
       "      <td>11211.00</td>\n",
       "      <td>1.00</td>\n",
       "      <td>0.00</td>\n",
       "      <td>1.00</td>\n",
       "      <td>2500.00</td>\n",
       "      <td>1748.00</td>\n",
       "      <td>1950.00</td>\n",
       "      <td>2.00</td>\n",
       "      <td>682500.00</td>\n",
       "    </tr>\n",
       "    <tr>\n",
       "      <th>75%</th>\n",
       "      <td>4.00</td>\n",
       "      <td>6600.50</td>\n",
       "      <td>1002.00</td>\n",
       "      <td>11361.00</td>\n",
       "      <td>2.00</td>\n",
       "      <td>0.00</td>\n",
       "      <td>2.00</td>\n",
       "      <td>4000.00</td>\n",
       "      <td>2398.00</td>\n",
       "      <td>1975.00</td>\n",
       "      <td>2.00</td>\n",
       "      <td>990000.00</td>\n",
       "    </tr>\n",
       "    <tr>\n",
       "      <th>max</th>\n",
       "      <td>5.00</td>\n",
       "      <td>16350.00</td>\n",
       "      <td>9116.00</td>\n",
       "      <td>11697.00</td>\n",
       "      <td>8764.00</td>\n",
       "      <td>259.00</td>\n",
       "      <td>8812.00</td>\n",
       "      <td>6777433.00</td>\n",
       "      <td>8942176.00</td>\n",
       "      <td>2021.00</td>\n",
       "      <td>4.00</td>\n",
       "      <td>2999999.00</td>\n",
       "    </tr>\n",
       "  </tbody>\n",
       "</table>\n",
       "</div>"
      ],
      "text/plain": [
       "       BOROUGH    BLOCK      LOT  ZIP CODE  RESIDENTIAL UNITS  \\\n",
       "count 36903.00 36903.00 36903.00  36902.00           26531.00   \n",
       "mean      3.08  4483.05   381.13  10874.60               3.03   \n",
       "std       1.28  3687.78   649.45    554.89              58.49   \n",
       "min       1.00     1.00     1.00  10001.00               0.00   \n",
       "25%       2.00  1381.00    22.00  10309.00               1.00   \n",
       "50%       3.00  3680.00    51.00  11211.00               1.00   \n",
       "75%       4.00  6600.50  1002.00  11361.00               2.00   \n",
       "max       5.00 16350.00  9116.00  11697.00            8764.00   \n",
       "\n",
       "       COMMERCIAL UNITS  TOTAL UNITS  LAND SQUARE FEET  GROSS SQUARE FEET  \\\n",
       "count          19651.00     27408.00          18774.00           18774.00   \n",
       "mean               0.60         3.36          13775.63            6761.82   \n",
       "std               10.86        58.53         241081.03           89178.16   \n",
       "min                0.00         0.00             45.00               0.00   \n",
       "25%                0.00         1.00           2000.00            1300.00   \n",
       "50%                0.00         1.00           2500.00            1748.00   \n",
       "75%                0.00         2.00           4000.00            2398.00   \n",
       "max              259.00      8812.00        6777433.00         8942176.00   \n",
       "\n",
       "       YEAR BUILT  TAX CLASS AT TIME OF SALE  SALE PRICE  \n",
       "count    34691.00                   36903.00    36903.00  \n",
       "mean      1953.36                       1.60   823334.29  \n",
       "std         34.53                       0.71   537562.92  \n",
       "min       1800.00                       1.00   101000.00  \n",
       "25%       1925.00                       1.00   465000.00  \n",
       "50%       1950.00                       2.00   682500.00  \n",
       "75%       1975.00                       2.00   990000.00  \n",
       "max       2021.00                       4.00  2999999.00  "
      ]
     },
     "execution_count": 115,
     "metadata": {},
     "output_type": "execute_result"
    }
   ],
   "source": [
    "df.describe()"
   ]
  },
  {
   "cell_type": "code",
   "execution_count": 116,
   "metadata": {},
   "outputs": [
    {
     "data": {
      "text/plain": [
       "<matplotlib.axes._subplots.AxesSubplot at 0x25308270760>"
      ]
     },
     "execution_count": 116,
     "metadata": {},
     "output_type": "execute_result"
    },
    {
     "data": {
      "image/png": "[encoded data removed]",
      "text/plain": [
       "<Figure size 432x288 with 1 Axes>"
      ]
     },
     "metadata": {
      "needs_background": "light"
     },
     "output_type": "display_data"
    }
   ],
   "source": [
    "df['SALE PRICE'].hist()"
   ]
  },
  {
   "cell_type": "code",
   "execution_count": 117,
   "metadata": {},
   "outputs": [
    {
     "name": "stdout",
     "output_type": "stream",
     "text": [
      "<class 'pandas.core.frame.DataFrame'>\n",
      "Int64Index: 36903 entries, 1 to 6103\n",
      "Data columns (total 16 columns):\n",
      " #   Column                          Non-Null Count  Dtype  \n",
      "---  ------                          --------------  -----  \n",
      " 0   BOROUGH                         36903 non-null  int64  \n",
      " 1   NEIGHBORHOOD                    36903 non-null  object \n",
      " 2   BUILDING CLASS CATEGORY         36903 non-null  object \n",
      " 3   BLOCK                           36903 non-null  int64  \n",
      " 4   LOT                             36903 non-null  int64  \n",
      " 5   ADDRESS                         36903 non-null  object \n",
      " 6   ZIP CODE                        36902 non-null  float64\n",
      " 7   RESIDENTIAL UNITS               26531 non-null  float64\n",
      " 8   COMMERCIAL UNITS                19651 non-null  float64\n",
      " 9   TOTAL UNITS                     27408 non-null  float64\n",
      " 10  LAND SQUARE FEET                18774 non-null  float64\n",
      " 11  GROSS SQUARE FEET               18774 non-null  float64\n",
      " 12  YEAR BUILT                      34691 non-null  float64\n",
      " 13  TAX CLASS AT TIME OF SALE       36903 non-null  int64  \n",
      " 14  BUILDING CLASS AT TIME OF SALE  36903 non-null  object \n",
      " 15  SALE PRICE                      36903 non-null  int64  \n",
      "dtypes: float64(7), int64(5), object(4)\n",
      "memory usage: 4.8+ MB\n"
     ]
    }
   ],
   "source": [
    "df.info()"
   ]
  },
  {
   "cell_type": "markdown",
   "metadata": {},
   "source": [
    "There are some null values in land and Gross square feet, we will leave it for now and clean up after analyzing further.\n",
    "Also for simplicity we will rename TAX CLASS AT TIME OF SALE and BUILDING CLASS AT TIME OF SALE"
   ]
  },
  {
   "cell_type": "code",
   "execution_count": null,
   "metadata": {},
   "outputs": [],
   "source": [
    "df = df.rename(columns = {'BUILDING CLASS AT TIME OF SALE':'BUILDING CLASS', 'TAX CLASS AT TIME OF SALE' : 'TAX CLASS'})"
   ]
  },
  {
   "cell_type": "code",
   "execution_count": 124,
   "metadata": {},
   "outputs": [],
   "source": [
    "df.to_csv('data/dataWrangleNYRealEstate.csv', index=False)"
   ]
  }
 ],
 "metadata": {
  "kernelspec": {
   "display_name": "Python 3",
   "language": "python",
   "name": "python3"
  },
  "language_info": {
   "codemirror_mode": {
    "name": "ipython",
    "version": 3
   },
   "file_extension": ".py",
   "mimetype": "text/x-python",
   "name": "python",
   "nbconvert_exporter": "python",
   "pygments_lexer": "ipython3",
   "version": "3.8.3"
  }
 },
 "nbformat": 4,
 "nbformat_minor": 4
}
